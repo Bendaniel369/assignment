{
 "cells": [
  {
   "cell_type": "code",
   "execution_count": 1,
   "id": "bffd2c2a-a4bf-4452-9825-90f7fd54164d",
   "metadata": {},
   "outputs": [],
   "source": [
    "d={}"
   ]
  },
  {
   "cell_type": "code",
   "execution_count": 2,
   "id": "b04f39da-76ed-4333-aa53-c49738de3230",
   "metadata": {},
   "outputs": [
    {
     "data": {
      "text/plain": [
       "dict"
      ]
     },
     "execution_count": 2,
     "metadata": {},
     "output_type": "execute_result"
    }
   ],
   "source": [
    "type(d)"
   ]
  },
  {
   "cell_type": "code",
   "execution_count": 3,
   "id": "ae5af141-1b88-43e2-9fbe-f5bb7e997024",
   "metadata": {},
   "outputs": [],
   "source": [
    "d1={'key':'sudh'}"
   ]
  },
  {
   "cell_type": "code",
   "execution_count": 4,
   "id": "5c6bdb4b-93e7-41f4-9eb5-7aa805872c5a",
   "metadata": {},
   "outputs": [
    {
     "data": {
      "text/plain": [
       "{'key': 'sudh'}"
      ]
     },
     "execution_count": 4,
     "metadata": {},
     "output_type": "execute_result"
    }
   ],
   "source": [
    "d1"
   ]
  },
  {
   "cell_type": "code",
   "execution_count": 6,
   "id": "f90c832c-c0dd-4660-bd52-de7131510e04",
   "metadata": {},
   "outputs": [],
   "source": [
    "d2={'name':'benjimen','age':23,'email ID':'bendaniel200@gmail.com','phone no.': 7088442109}"
   ]
  },
  {
   "cell_type": "code",
   "execution_count": 7,
   "id": "ed46d4d0-3340-42f6-adf5-8cd00d7b5694",
   "metadata": {},
   "outputs": [
    {
     "data": {
      "text/plain": [
       "{'name': 'benjimen',\n",
       " 'age': 23,\n",
       " 'email ID': 'bendaniel200@gmail.com',\n",
       " 'phone no.': 7088442109}"
      ]
     },
     "execution_count": 7,
     "metadata": {},
     "output_type": "execute_result"
    }
   ],
   "source": [
    "d2"
   ]
  },
  {
   "cell_type": "code",
   "execution_count": 8,
   "id": "3767701a-946a-4669-9c35-dadfc26c0895",
   "metadata": {},
   "outputs": [
    {
     "ename": "SyntaxError",
     "evalue": "invalid syntax (2817713366.py, line 1)",
     "output_type": "error",
     "traceback": [
      "\u001b[0;36m  Cell \u001b[0;32mIn[8], line 1\u001b[0;36m\u001b[0m\n\u001b[0;31m    d3={34:'ben',$gh:'daniel'}\u001b[0m\n\u001b[0m                 ^\u001b[0m\n\u001b[0;31mSyntaxError\u001b[0m\u001b[0;31m:\u001b[0m invalid syntax\n"
     ]
    }
   ],
   "source": [
    "d3={34:'ben',$gh:'daniel'}"
   ]
  },
  {
   "cell_type": "code",
   "execution_count": 9,
   "id": "db41f566-5e1e-4120-a1ea-bc8c91208f8f",
   "metadata": {},
   "outputs": [],
   "source": [
    "d3={34:'ben','$gh':'daniel'}"
   ]
  },
  {
   "cell_type": "code",
   "execution_count": 10,
   "id": "506e6128-1124-43b2-817c-ebd23ac74381",
   "metadata": {},
   "outputs": [
    {
     "data": {
      "text/plain": [
       "{34: 'ben', '$gh': 'daniel'}"
      ]
     },
     "execution_count": 10,
     "metadata": {},
     "output_type": "execute_result"
    }
   ],
   "source": [
    "d3"
   ]
  },
  {
   "cell_type": "code",
   "execution_count": 11,
   "id": "5f283593-9c22-4e73-95a5-c7f56bcaa550",
   "metadata": {},
   "outputs": [],
   "source": [
    "d3={34:'ben',True:'daniel'}"
   ]
  },
  {
   "cell_type": "code",
   "execution_count": 12,
   "id": "dc9ee65f-495e-4a2c-a5b5-1dc283893e96",
   "metadata": {},
   "outputs": [
    {
     "data": {
      "text/plain": [
       "'ben'"
      ]
     },
     "execution_count": 12,
     "metadata": {},
     "output_type": "execute_result"
    }
   ],
   "source": [
    "d3[34]"
   ]
  },
  {
   "cell_type": "code",
   "execution_count": 14,
   "id": "f1c0e042-1b66-451d-afb6-6c81d796f4c4",
   "metadata": {},
   "outputs": [
    {
     "data": {
      "text/plain": [
       "'benjimen'"
      ]
     },
     "execution_count": 14,
     "metadata": {},
     "output_type": "execute_result"
    }
   ],
   "source": [
    "d2['name']"
   ]
  },
  {
   "cell_type": "code",
   "execution_count": 16,
   "id": "266cbcb7-3e52-4622-83bd-e412abc07095",
   "metadata": {},
   "outputs": [
    {
     "data": {
      "text/plain": [
       "'ben'"
      ]
     },
     "execution_count": 16,
     "metadata": {},
     "output_type": "execute_result"
    }
   ],
   "source": [
    "d3[34]"
   ]
  },
  {
   "cell_type": "code",
   "execution_count": 18,
   "id": "abc24692-facf-4d06-822d-77532207d582",
   "metadata": {},
   "outputs": [
    {
     "data": {
      "text/plain": [
       "{34: 'ben', True: 'daniel'}"
      ]
     },
     "execution_count": 18,
     "metadata": {},
     "output_type": "execute_result"
    }
   ],
   "source": [
    "d3"
   ]
  },
  {
   "cell_type": "code",
   "execution_count": 19,
   "id": "e048d0bd-4050-4e49-9b1d-50859d0b766e",
   "metadata": {},
   "outputs": [
    {
     "data": {
      "text/plain": [
       "'daniel'"
      ]
     },
     "execution_count": 19,
     "metadata": {},
     "output_type": "execute_result"
    }
   ],
   "source": [
    "d3[1]"
   ]
  },
  {
   "cell_type": "code",
   "execution_count": 26,
   "id": "4f7f70c0-41d1-4870-a283-bd5a5de081d0",
   "metadata": {},
   "outputs": [],
   "source": [
    "d4={'name':\"ben\",'email':'bendaniel200@mail.com','name':'benjimen'}"
   ]
  },
  {
   "cell_type": "code",
   "execution_count": 27,
   "id": "8707dd60-b7b0-4222-969c-66e9a86a12db",
   "metadata": {},
   "outputs": [
    {
     "data": {
      "text/plain": [
       "'benjimen'"
      ]
     },
     "execution_count": 27,
     "metadata": {},
     "output_type": "execute_result"
    }
   ],
   "source": [
    "d4['name']"
   ]
  },
  {
   "cell_type": "code",
   "execution_count": 28,
   "id": "d0cadecd-272a-4144-ad9d-a774cfe02908",
   "metadata": {},
   "outputs": [],
   "source": [
    "d5={'company':'pwskills','courses':['web development','data science', 'dSa']}"
   ]
  },
  {
   "cell_type": "code",
   "execution_count": 30,
   "id": "70a7dd05-b268-46a2-a6cc-bc7c7ea4ae72",
   "metadata": {},
   "outputs": [
    {
     "data": {
      "text/plain": [
       "'dSa'"
      ]
     },
     "execution_count": 30,
     "metadata": {},
     "output_type": "execute_result"
    }
   ],
   "source": [
    "d5['courses'][2]"
   ]
  },
  {
   "cell_type": "code",
   "execution_count": 5,
   "id": "4613f280-876b-4cc4-bd9d-0681fbac025d",
   "metadata": {},
   "outputs": [],
   "source": [
    "d6={'number':[1,23,45,123,],'assignment':(1,2,3,4,5,6),'lunch date':{28,12,15},'class_time':{'web':4,'data sceince':6,'DSA':8}}"
   ]
  },
  {
   "cell_type": "code",
   "execution_count": 33,
   "id": "a6e101ba-cb22-4c42-8c8f-3be4796173ba",
   "metadata": {},
   "outputs": [
    {
     "data": {
      "text/plain": [
       "{'number': [1, 23, 45, 123],\n",
       " 'assignment': (1, 2, 3, 4, 5, 6),\n",
       " 'lunch date': {12, 15, 28},\n",
       " 'class_time': {'web': 4, 'data sceince': 6, 'DSA': 8}}"
      ]
     },
     "execution_count": 33,
     "metadata": {},
     "output_type": "execute_result"
    }
   ],
   "source": [
    "d6"
   ]
  },
  {
   "cell_type": "code",
   "execution_count": 34,
   "id": "f0b42d45-9e2b-4692-ac1a-b29abc65a59d",
   "metadata": {},
   "outputs": [
    {
     "data": {
      "text/plain": [
       "6"
      ]
     },
     "execution_count": 34,
     "metadata": {},
     "output_type": "execute_result"
    }
   ],
   "source": [
    "d6['class_time']['data sceince']"
   ]
  },
  {
   "cell_type": "code",
   "execution_count": 35,
   "id": "f44ec93a-dff4-4987-8c48-a59e356fd84e",
   "metadata": {},
   "outputs": [
    {
     "data": {
      "text/plain": [
       "{'number': [1, 23, 45, 123],\n",
       " 'assignment': (1, 2, 3, 4, 5, 6),\n",
       " 'lunch date': {12, 15, 28},\n",
       " 'class_time': {'web': 4, 'data sceince': 6, 'DSA': 8}}"
      ]
     },
     "execution_count": 35,
     "metadata": {},
     "output_type": "execute_result"
    }
   ],
   "source": [
    "d6"
   ]
  },
  {
   "cell_type": "code",
   "execution_count": 39,
   "id": "a8a55ea1-a1d8-46fc-af57-8c90129d680e",
   "metadata": {},
   "outputs": [],
   "source": [
    "d6['mentor']=('sudhanshu','krish','ben')"
   ]
  },
  {
   "cell_type": "code",
   "execution_count": 40,
   "id": "ac7ec8fc-9c0b-434e-ad5e-81e91242e651",
   "metadata": {},
   "outputs": [
    {
     "data": {
      "text/plain": [
       "{'number': [1, 23, 45, 123],\n",
       " 'assignment': (1, 2, 3, 4, 5, 6),\n",
       " 'lunch date': {12, 15, 28},\n",
       " 'class_time': {'web': 4, 'data sceince': 6, 'DSA': 8},\n",
       " 'mentor': ('sudhanshu', 'krish', 'ben')}"
      ]
     },
     "execution_count": 40,
     "metadata": {},
     "output_type": "execute_result"
    }
   ],
   "source": [
    "d6"
   ]
  },
  {
   "cell_type": "code",
   "execution_count": 41,
   "id": "e4c00448-a5b5-475c-873b-0a83ca409cf4",
   "metadata": {},
   "outputs": [],
   "source": [
    "d6['learner']=['benjimen']"
   ]
  },
  {
   "cell_type": "code",
   "execution_count": 42,
   "id": "b1705692-d28a-449c-89a7-4671d1002b0e",
   "metadata": {},
   "outputs": [
    {
     "data": {
      "text/plain": [
       "{'number': [1, 23, 45, 123],\n",
       " 'assignment': (1, 2, 3, 4, 5, 6),\n",
       " 'lunch date': {12, 15, 28},\n",
       " 'class_time': {'web': 4, 'data sceince': 6, 'DSA': 8},\n",
       " 'mentor': ('sudhanshu', 'krish', 'ben'),\n",
       " 'learner': ['benjimen']}"
      ]
     },
     "execution_count": 42,
     "metadata": {},
     "output_type": "execute_result"
    }
   ],
   "source": [
    "d6"
   ]
  },
  {
   "cell_type": "code",
   "execution_count": 43,
   "id": "9d2df486-6bf9-405b-85bb-f3f2b1f96781",
   "metadata": {},
   "outputs": [],
   "source": [
    "del d6['number']"
   ]
  },
  {
   "cell_type": "code",
   "execution_count": 44,
   "id": "b4958e61-81a9-4fd3-9328-e6bab6eaab2e",
   "metadata": {},
   "outputs": [
    {
     "data": {
      "text/plain": [
       "{'assignment': (1, 2, 3, 4, 5, 6),\n",
       " 'lunch date': {12, 15, 28},\n",
       " 'class_time': {'web': 4, 'data sceince': 6, 'DSA': 8},\n",
       " 'mentor': ('sudhanshu', 'krish', 'ben'),\n",
       " 'learner': ['benjimen']}"
      ]
     },
     "execution_count": 44,
     "metadata": {},
     "output_type": "execute_result"
    }
   ],
   "source": [
    "d6"
   ]
  },
  {
   "cell_type": "code",
   "execution_count": 46,
   "id": "b0f3cf56-97d8-4877-ac72-2ea7adba1309",
   "metadata": {},
   "outputs": [
    {
     "data": {
      "text/plain": [
       "dict_keys(['assignment', 'lunch date', 'class_time', 'mentor', 'learner'])"
      ]
     },
     "execution_count": 46,
     "metadata": {},
     "output_type": "execute_result"
    }
   ],
   "source": [
    "d6.keys()"
   ]
  },
  {
   "cell_type": "code",
   "execution_count": 1,
   "id": "437468f5-dfd9-4f1d-8787-76bfee208d37",
   "metadata": {},
   "outputs": [
    {
     "ename": "NameError",
     "evalue": "name 'd6' is not defined",
     "output_type": "error",
     "traceback": [
      "\u001b[0;31m---------------------------------------------------------------------------\u001b[0m",
      "\u001b[0;31mNameError\u001b[0m                                 Traceback (most recent call last)",
      "Cell \u001b[0;32mIn[1], line 1\u001b[0m\n\u001b[0;32m----> 1\u001b[0m \u001b[43md6\u001b[49m\u001b[38;5;241m.\u001b[39mkeys()\n",
      "\u001b[0;31mNameError\u001b[0m: name 'd6' is not defined"
     ]
    }
   ],
   "source": [
    "d6.keys()"
   ]
  },
  {
   "cell_type": "code",
   "execution_count": 6,
   "id": "d61e07f1-99cd-4293-906c-b59db0d22f6f",
   "metadata": {},
   "outputs": [
    {
     "data": {
      "text/plain": [
       "dict_keys(['number', 'assignment', 'lunch date', 'class_time'])"
      ]
     },
     "execution_count": 6,
     "metadata": {},
     "output_type": "execute_result"
    }
   ],
   "source": [
    "d6.keys()"
   ]
  },
  {
   "cell_type": "code",
   "execution_count": 34,
   "id": "1447d678-b2ee-4fe1-b538-47880ad69bf1",
   "metadata": {},
   "outputs": [
    {
     "data": {
      "text/plain": [
       "[1, 23, 45, 123]"
      ]
     },
     "execution_count": 34,
     "metadata": {},
     "output_type": "execute_result"
    }
   ],
   "source": [
    "list(d6['number'])"
   ]
  },
  {
   "cell_type": "code",
   "execution_count": 7,
   "id": "0987192f-2d59-4d73-aa07-91301fd1ccb6",
   "metadata": {},
   "outputs": [
    {
     "data": {
      "text/plain": [
       "['number', 'assignment', 'lunch date', 'class_time']"
      ]
     },
     "execution_count": 7,
     "metadata": {},
     "output_type": "execute_result"
    }
   ],
   "source": [
    "list(d6.keys())"
   ]
  },
  {
   "cell_type": "code",
   "execution_count": 10,
   "id": "ca038c2c-5db7-40de-a217-57278435767c",
   "metadata": {},
   "outputs": [
    {
     "data": {
      "text/plain": [
       "[('number', [1, 23, 45, 123]),\n",
       " ('assignment', (1, 2, 3, 4, 5, 6)),\n",
       " ('lunch date', {12, 15, 28}),\n",
       " ('class_time', {'web': 4, 'data sceince': 6, 'DSA': 8})]"
      ]
     },
     "execution_count": 10,
     "metadata": {},
     "output_type": "execute_result"
    }
   ],
   "source": [
    "list(d6.items()) #items function is used to convert it into tuples"
   ]
  },
  {
   "cell_type": "code",
   "execution_count": 9,
   "id": "2f44c484-89a4-4ff0-803d-0e9b40f5907a",
   "metadata": {},
   "outputs": [
    {
     "data": {
      "text/plain": [
       "dict_items([('number', [1, 23, 45, 123]), ('assignment', (1, 2, 3, 4, 5, 6)), ('lunch date', {28, 12, 15}), ('class_time', {'web': 4, 'data sceince': 6, 'DSA': 8})])"
      ]
     },
     "execution_count": 9,
     "metadata": {},
     "output_type": "execute_result"
    }
   ],
   "source": [
    "d6.items()"
   ]
  },
  {
   "cell_type": "code",
   "execution_count": 8,
   "id": "b2c48eac-0d59-4437-8ff6-5f4c83e1089e",
   "metadata": {},
   "outputs": [
    {
     "data": {
      "text/plain": [
       "[[1, 23, 45, 123],\n",
       " (1, 2, 3, 4, 5, 6),\n",
       " {12, 15, 28},\n",
       " {'web': 4, 'data sceince': 6, 'DSA': 8}]"
      ]
     },
     "execution_count": 8,
     "metadata": {},
     "output_type": "execute_result"
    }
   ],
   "source": [
    "list(d6.values())"
   ]
  },
  {
   "cell_type": "code",
   "execution_count": 12,
   "id": "9d09622f-2786-4ede-99b9-4a6212efea4f",
   "metadata": {},
   "outputs": [
    {
     "data": {
      "text/plain": [
       "[1, 23, 45, 123]"
      ]
     },
     "execution_count": 12,
     "metadata": {},
     "output_type": "execute_result"
    }
   ],
   "source": [
    "d6.pop('number')"
   ]
  },
  {
   "cell_type": "code",
   "execution_count": 13,
   "id": "dae2c018-8e5e-4757-bebe-0e8e9a76825f",
   "metadata": {},
   "outputs": [
    {
     "data": {
      "text/plain": [
       "{'assignment': (1, 2, 3, 4, 5, 6),\n",
       " 'lunch date': {12, 15, 28},\n",
       " 'class_time': {'web': 4, 'data sceince': 6, 'DSA': 8}}"
      ]
     },
     "execution_count": 13,
     "metadata": {},
     "output_type": "execute_result"
    }
   ],
   "source": [
    "d6"
   ]
  },
  {
   "cell_type": "code",
   "execution_count": 17,
   "id": "97d6ff09-8f6a-4e52-ae65-f9b1604c1293",
   "metadata": {},
   "outputs": [],
   "source": [
    "d6['number']=[1, 23, 45, 123]"
   ]
  },
  {
   "cell_type": "code",
   "execution_count": 18,
   "id": "efe4ae7d-cff1-49b9-99a9-a893ac9d3013",
   "metadata": {},
   "outputs": [
    {
     "data": {
      "text/plain": [
       "{'assignment': (1, 2, 3, 4, 5, 6),\n",
       " 'lunch date': {12, 15, 28},\n",
       " 'class_time': {'web': 4, 'data sceince': 6, 'DSA': 8},\n",
       " 'number': [1, 23, 45, 123]}"
      ]
     },
     "execution_count": 18,
     "metadata": {},
     "output_type": "execute_result"
    }
   ],
   "source": [
    "d6"
   ]
  },
  {
   "cell_type": "code",
   "execution_count": 16,
   "id": "52484e40-cb26-4d8b-af15-47c29ad074dc",
   "metadata": {},
   "outputs": [
    {
     "ename": "TypeError",
     "evalue": "pop expected at least 1 argument, got 0",
     "output_type": "error",
     "traceback": [
      "\u001b[0;31m---------------------------------------------------------------------------\u001b[0m",
      "\u001b[0;31mTypeError\u001b[0m                                 Traceback (most recent call last)",
      "Cell \u001b[0;32mIn[16], line 1\u001b[0m\n\u001b[0;32m----> 1\u001b[0m \u001b[43md6\u001b[49m\u001b[38;5;241;43m.\u001b[39;49m\u001b[43mpop\u001b[49m\u001b[43m(\u001b[49m\u001b[43m)\u001b[49m\n",
      "\u001b[0;31mTypeError\u001b[0m: pop expected at least 1 argument, got 0"
     ]
    }
   ],
   "source": [
    "d6.pop()"
   ]
  },
  {
   "cell_type": "code",
   "execution_count": 19,
   "id": "b6d8e4e0-78b0-4749-810b-4509a3180af6",
   "metadata": {},
   "outputs": [
    {
     "data": {
      "text/plain": [
       "{'assignment': (1, 2, 3, 4, 5, 6),\n",
       " 'lunch date': {12, 15, 28},\n",
       " 'class_time': {'web': 4, 'data sceince': 6, 'DSA': 8},\n",
       " 'number': [1, 23, 45, 123]}"
      ]
     },
     "execution_count": 19,
     "metadata": {},
     "output_type": "execute_result"
    }
   ],
   "source": [
    "d6"
   ]
  },
  {
   "cell_type": "code",
   "execution_count": 20,
   "id": "b7c00228-122e-43c5-ac55-1e8f860e2939",
   "metadata": {},
   "outputs": [],
   "source": [
    "# distribution for students according to marks\n",
    "# distribution for students according to marks\n",
    "# distribution for students according to marks\n",
    "# distribution for students according to marks"
   ]
  },
  {
   "cell_type": "code",
   "execution_count": 35,
   "id": "6dfbfe61-a301-4793-9064-8bff4ef9ea42",
   "metadata": {},
   "outputs": [
    {
     "name": "stdin",
     "output_type": "stream",
     "text": [
      "enter your marks 588\n"
     ]
    },
    {
     "name": "stdout",
     "output_type": "stream",
     "text": [
      "you will go in the A0 class\n"
     ]
    }
   ],
   "source": [
    "m=int(input('enter your marks'))\n",
    "if m>=80:\n",
    "    print('you will go in the A0 class')\n",
    "elif m>=60 and m<80 :\n",
    "    print('you will go in the A1 class')\n",
    "elif m>=50 and m<60 :\n",
    "    print('you will go in the A2 class')\n",
    "else :\n",
    "    print('you are not qualified')"
   ]
  },
  {
   "cell_type": "code",
   "execution_count": 36,
   "id": "27c07cec-b41e-4e60-8359-cd11ba5d6479",
   "metadata": {},
   "outputs": [
    {
     "name": "stdin",
     "output_type": "stream",
     "text": [
      " 4000\n"
     ]
    },
    {
     "name": "stdout",
     "output_type": "stream",
     "text": [
      "i will purchase\n"
     ]
    }
   ],
   "source": [
    "price=int(input())\n",
    "if price > 1000:\n",
    "    print('i will purchase')\n",
    "else :\n",
    "    print('i will not purchase')"
   ]
  },
  {
   "cell_type": "code",
   "execution_count": 41,
   "id": "8608f0ab-56a1-422b-8066-9d4e0614680b",
   "metadata": {},
   "outputs": [
    {
     "name": "stdin",
     "output_type": "stream",
     "text": [
      "enter price 23\n"
     ]
    },
    {
     "name": "stdout",
     "output_type": "stream",
     "text": [
      "good bye\n"
     ]
    }
   ],
   "source": [
    "price=int(input('enter price'))\n",
    "if price > 1000:\n",
    "    print('i will purchase')\n",
    "    if price > 7000:\n",
    "        print('this is too much')\n",
    "    elif price <3000:\n",
    "        print('itd okay')\n",
    "else:\n",
    "    print('good bye')"
   ]
  },
  {
   "cell_type": "code",
   "execution_count": 42,
   "id": "fc58bd04-8b21-45db-b73e-7b6fba0760d9",
   "metadata": {},
   "outputs": [],
   "source": [
    "l=[1,2,3,4,5,6,7,8]"
   ]
  },
  {
   "cell_type": "code",
   "execution_count": 46,
   "id": "2d62e31e-868a-4d28-9e08-3c39a2c64dd6",
   "metadata": {},
   "outputs": [
    {
     "name": "stdout",
     "output_type": "stream",
     "text": [
      "2\n",
      "3\n",
      "4\n",
      "5\n",
      "6\n",
      "7\n",
      "8\n",
      "9\n"
     ]
    }
   ],
   "source": [
    "for a in l:\n",
    "    a=a+1\n",
    "    print(a)"
   ]
  },
  {
   "cell_type": "code",
   "execution_count": 50,
   "id": "05e716fb-1f02-495a-8dbe-1256f909e5c3",
   "metadata": {},
   "outputs": [],
   "source": [
    "l1=[]\n",
    "for a in l:\n",
    "    a=a+1\n",
    "    l1.append(a)"
   ]
  },
  {
   "cell_type": "code",
   "execution_count": 51,
   "id": "5cdfa917-545e-46b4-a7ad-b3c8bfeb2607",
   "metadata": {},
   "outputs": [
    {
     "data": {
      "text/plain": [
       "[2, 3, 4, 5, 6, 7, 8, 9]"
      ]
     },
     "execution_count": 51,
     "metadata": {},
     "output_type": "execute_result"
    }
   ],
   "source": [
    "l1"
   ]
  },
  {
   "cell_type": "code",
   "execution_count": 53,
   "id": "6c02cdaa-9891-4440-b709-5778830c574d",
   "metadata": {},
   "outputs": [
    {
     "data": {
      "text/plain": [
       "[2, 3, 4, 5, 6, 7, 8, 9]"
      ]
     },
     "execution_count": 53,
     "metadata": {},
     "output_type": "execute_result"
    }
   ],
   "source": [
    "l2=[]\n",
    "for a in l:\n",
    "    l2.append(a+1)\n",
    "l2    "
   ]
  },
  {
   "cell_type": "code",
   "execution_count": 54,
   "id": "0ff8b411-dd1e-409f-b39c-c98f01a1452a",
   "metadata": {},
   "outputs": [],
   "source": [
    "l=['ben','data','sudh','courses']"
   ]
  },
  {
   "cell_type": "code",
   "execution_count": 55,
   "id": "e12720f3-8d68-441e-8c6c-cd8bd4eb18e8",
   "metadata": {},
   "outputs": [
    {
     "name": "stdout",
     "output_type": "stream",
     "text": [
      "ben\n",
      "data\n",
      "sudh\n",
      "courses\n"
     ]
    }
   ],
   "source": [
    "for i in l:\n",
    "    print(i)"
   ]
  },
  {
   "cell_type": "code",
   "execution_count": 56,
   "id": "24378137-e53b-41af-8994-ea565b262d46",
   "metadata": {},
   "outputs": [
    {
     "data": {
      "text/plain": [
       "['BEN', 'DATA', 'SUDH', 'COURSES']"
      ]
     },
     "execution_count": 56,
     "metadata": {},
     "output_type": "execute_result"
    }
   ],
   "source": [
    "l1=[]\n",
    "for i in l:\n",
    "    l1.append(i.upper())\n",
    "l1    "
   ]
  },
  {
   "cell_type": "code",
   "execution_count": 57,
   "id": "17068611-f0c5-4940-bc4c-2ed6bfcb5d41",
   "metadata": {},
   "outputs": [],
   "source": [
    "l=[1,2,3,4,5,6,'ben', 3444.33,'kumar','data']"
   ]
  },
  {
   "cell_type": "code",
   "execution_count": 58,
   "id": "e2a4332d-d00b-43f9-a0df-26528072f185",
   "metadata": {},
   "outputs": [
    {
     "data": {
      "text/plain": [
       "['ben', 'kumar', 'data']"
      ]
     },
     "execution_count": 58,
     "metadata": {},
     "output_type": "execute_result"
    }
   ],
   "source": [
    "l1=[]\n",
    "l2=[]\n",
    "for i in l:\n",
    "    if type(i)==int or type==float:\n",
    "        l1.append(i) \n",
    "    elif type(i)==str:\n",
    "        l2.append(i)"
   ]
  },
  {
   "cell_type": "code",
   "execution_count": 59,
   "id": "e4ef76dd-f4a5-4f0c-a16d-f6cd4ed2007e",
   "metadata": {},
   "outputs": [
    {
     "data": {
      "text/plain": [
       "[1, 2, 3, 4, 5, 6]"
      ]
     },
     "execution_count": 59,
     "metadata": {},
     "output_type": "execute_result"
    }
   ],
   "source": [
    "l1"
   ]
  },
  {
   "cell_type": "code",
   "execution_count": 60,
   "id": "16a50e5f-9b98-45de-885b-1991946f7a58",
   "metadata": {},
   "outputs": [
    {
     "data": {
      "text/plain": [
       "['ben', 'kumar', 'data']"
      ]
     },
     "execution_count": 60,
     "metadata": {},
     "output_type": "execute_result"
    }
   ],
   "source": [
    "l2"
   ]
  },
  {
   "cell_type": "code",
   "execution_count": null,
   "id": "0f0ba6c9-bdb9-4771-94fb-60a255962a3f",
   "metadata": {},
   "outputs": [],
   "source": []
  }
 ],
 "metadata": {
  "kernelspec": {
   "display_name": "Python 3 (ipykernel)",
   "language": "python",
   "name": "python3"
  },
  "language_info": {
   "codemirror_mode": {
    "name": "ipython",
    "version": 3
   },
   "file_extension": ".py",
   "mimetype": "text/x-python",
   "name": "python",
   "nbconvert_exporter": "python",
   "pygments_lexer": "ipython3",
   "version": "3.10.8"
  }
 },
 "nbformat": 4,
 "nbformat_minor": 5
}
